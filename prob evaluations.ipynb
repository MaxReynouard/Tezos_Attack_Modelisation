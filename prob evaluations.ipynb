{
 "cells": [
  {
   "cell_type": "code",
   "execution_count": null,
   "metadata": {
    "ExecuteTime": {
     "end_time": "2021-06-23T13:36:57.374932Z",
     "start_time": "2021-06-23T13:36:57.361934Z"
    }
   },
   "outputs": [],
   "source": [
    "import numpy as np\n",
    "#from math import comb (deprecated)\n",
    "from scipy.special import comb\n",
    "from time import time\n",
    "from tqdm.notebook import tqdm, trange"
   ]
  },
  {
   "cell_type": "code",
   "execution_count": null,
   "metadata": {
    "ExecuteTime": {
     "end_time": "2021-06-23T07:53:15.709527Z",
     "start_time": "2021-06-23T07:53:15.676515Z"
    },
    "code_folding": [
     5,
     9,
     13,
     26,
     31,
     36,
     42,
     46,
     67,
     71,
     75,
     80,
     85,
     89,
     101
    ]
   },
   "outputs": [],
   "source": [
    "class Distribution:\n",
    "#     A class to manage discret distributions\n",
    "#     Contains a support list (self.n)\n",
    "#     and a probability list (self.p) \n",
    "#     giving the probability we draw the corresponding value from the support\n",
    "    def __init__(self, supports, values):\n",
    "        self.n = supports\n",
    "        self.p = values\n",
    "        \n",
    "    def order(self):\n",
    "#         to sort the support, keeping the corresponding probability \n",
    "        self.n, self.p = zip(*sorted(zip(self.n, self.p)))\n",
    "    \n",
    "    def fuse(self):\n",
    "#         if a support is sorted, and has repeated values, this fuses them with their probability\n",
    "        supp = [self.n[0]]\n",
    "        prob = [self.p[0]]\n",
    "        for n,p in zip(self.n[1:],self.p[1:]):\n",
    "            if n == supp[-1]:\n",
    "                prob[-1] += p\n",
    "            else : \n",
    "                supp.append(n)\n",
    "                prob.append(p)\n",
    "        self.n = supp\n",
    "        self.p = prob\n",
    "        \n",
    "    def normalize(self):\n",
    "#         some manipulations (like filtering) lose normalization, this brings it back\n",
    "        prob_sum = sum(self.p)\n",
    "        self.p = [p/prob_sum for p in self.p]\n",
    "    \n",
    "    def order_n_fuse(self):\n",
    "#         applies the corresponding methods\n",
    "        self.order()\n",
    "        self.fuse()\n",
    "        \n",
    "    def filtering(self, cond):\n",
    "#         filters over a condition (then normalize)\n",
    "        self.p = [p for n,p in zip(self.n, self.p) if cond(n)]\n",
    "        self.n = [n for n in self.n if cond(n)]\n",
    "        self.normalize()\n",
    "    \n",
    "    def sum_cond(self,cond):\n",
    "#         gives the probability we are in a set defined by the condition cond\n",
    "        return sum([p for n,p in zip(self.n, self.p) if cond(n)])\n",
    "        \n",
    "    def function(a,f,b, sup_filter=None):\n",
    "#         returns the probability distribution of f(a,b), we can force a condition sup_filter(a,b) over the supports of a and b \n",
    "        if type(b) == Distribution :\n",
    "            true_func = lambda x,y:True\n",
    "            if not sup_filter : \n",
    "                sup_filter = true_func\n",
    "            support_values = []\n",
    "            prob_values = [] \n",
    "            for a_v, a_p in zip(a.n, a.p) :\n",
    "                for b_v, b_p in zip(b.n, b.p) :\n",
    "                    if sup_filter(a_v,b_v) :\n",
    "                        support_values.append(f(a_v, b_v))\n",
    "                        prob_values.append(a_p * b_p)\n",
    "            distrib = Distribution(support_values, prob_values) \n",
    "            distrib.order_n_fuse()\n",
    "            if sup_filter != true_func:\n",
    "                distrib.normalize()\n",
    "            return distrib\n",
    "        distrib = Distribution([f(a,b) for n in a.n], a.p) \n",
    "        return distrib\n",
    "            \n",
    "    def __add__(a,b):\n",
    "#         returns the probability distribution of a+b, allows to actually use the a+b syntax\n",
    "        return a.function(lambda x, y: x+y, b)\n",
    "    \n",
    "    def __mul__(a,b):\n",
    "#         returns the probability distribution of a*b, allows to actually use the a*b syntax\n",
    "        return a.function(lambda x, y: x*y, b)\n",
    "\n",
    "    def __truediv__(a,b):\n",
    "#         returns the probability distribution of a/b, allows to actually use the a/b syntax\n",
    "#         WARNING: no control for /0\n",
    "        return a.function(lambda x, y: x+y, b)\n",
    "\n",
    "    def __neg__(a):\n",
    "#         returns the probability distribution of -b, allows to actually use the -b syntax\n",
    "        distrib = Distribution([-n for n in a.n], a.p) \n",
    "        return distrib\n",
    "    \n",
    "    def __sub__(a,b):\n",
    "#         returns the probability distribution of a-b, allows to actually use the a-b syntax\n",
    "        return a.function(lambda x, y: x-y, b)\n",
    "    \n",
    "    def cut_geometric(N,p):\n",
    "#         To create distribution that correspond to a truncated geometric distribution \n",
    "#         This corresponds to the probability distribution of the best priority you get at any level\n",
    "        support = list(range(N+1))\n",
    "        probs = []\n",
    "        for n in support :\n",
    "            if n==N: \n",
    "                probs.append((1-p)**N)\n",
    "            else :\n",
    "                probs.append(p*(1-p)**n)\n",
    "        return Distribution(support, probs)\n",
    "    \n",
    "    def binomial(N,p):\n",
    "#         To create distribution that correspond to a binomial distribution \n",
    "#         This corresponds to the probability distribution of the number of endorsement we get at a level \n",
    "        supports = list(range(N+1))\n",
    "        probs = [comb(N,n) * s**n * (1-s)**(N-n) for n in supports]\n",
    "        return Distribution(supports, probs)\n",
    "        \n",
    "    def __str__(self):\n",
    "        s = ''\n",
    "        for n, p in zip(self.n, self.p):\n",
    "            s = s + f'{n:10d} : {p:.2e}\\n'\n",
    "        return s[:-1]"
   ]
  },
  {
   "cell_type": "markdown",
   "metadata": {},
   "source": [
    "note: probably want to upgrade the distribution class's fields to numpy arrays or torch tensors for speed"
   ]
  },
  {
   "cell_type": "code",
   "execution_count": null,
   "metadata": {
    "ExecuteTime": {
     "end_time": "2021-06-23T07:53:16.851274Z",
     "start_time": "2021-06-23T07:53:16.829292Z"
    },
    "code_folding": [
     2,
     3,
     6,
     9,
     20
    ]
   },
   "outputs": [],
   "source": [
    "# very basic class for representing delay functions, \n",
    "# and sub class for emmy family\n",
    "class Delay:\n",
    "    def __init__(self, f):\n",
    "        self.f = f\n",
    "        \n",
    "    def __call__(self, prio, endo):\n",
    "        return self.f(prio, endo)\n",
    "    \n",
    "    def distrib(self, prio_distrib, endo_distrib):\n",
    "        delay_values = []\n",
    "        prob_values = []\n",
    "        for prio_v, prio_p in zip(prio_distrib.n, prio_distrib.p) :\n",
    "            for endo_v, endo_p in zip(endo_distrib.n, endo_distrib.p) :\n",
    "                delay_values.append(self(prio_v,endo_v))\n",
    "                prob_values.append(prio_p * endo_p)\n",
    "        delay_distrib = Distribution (delay_values, prob_values) \n",
    "        delay_distrib.order_n_fuse()\n",
    "        return delay_distrib\n",
    "        \n",
    "class Delay_emmy(Delay):\n",
    "    def __init__(self, emmy):\n",
    "        \n",
    "        if emmy=='emmy':\n",
    "            self.E = 32\n",
    "            super().__init__( lambda p,e: 60 + 75*p)\n",
    "        elif emmy=='emmy+':\n",
    "            self.E = 32\n",
    "            super().__init__( lambda p,e: 60 + 40*p + 8*max(self.E*3/4-e,0))\n",
    "        elif emmy=='emmy*':\n",
    "            self.E = 256\n",
    "            def f(p,e):\n",
    "                if p==0 and e>=3*self.E/5:\n",
    "                    return 30\n",
    "                else:\n",
    "                    return 60 + 40*p + 8*max(self.E*3/4-e,0)\n",
    "                    \n",
    "            super().__init__( f)"
   ]
  },
  {
   "cell_type": "code",
   "execution_count": null,
   "metadata": {
    "ExecuteTime": {
     "end_time": "2021-06-23T07:53:18.415629Z",
     "start_time": "2021-06-23T07:53:18.399617Z"
    },
    "code_folding": [
     0,
     7
    ]
   },
   "outputs": [],
   "source": [
    "# very basic class for representing baking reward functions, \n",
    "# and sub class for emmy family\n",
    "class Reward_baking:\n",
    "    def __init__(self, f):\n",
    "        self.f = f\n",
    "        \n",
    "    def __call__(self, prio, endo):\n",
    "        return self.f(prio, endo)\n",
    "\n",
    "class Reward_baking_emmy(Reward_baking):\n",
    "    def __init__(self, emmy):\n",
    "        \n",
    "        if emmy=='emmy':\n",
    "            self.E = 32\n",
    "            super().__init__( lambda p,e: 16)\n",
    "        elif emmy=='emmy+':\n",
    "            self.E = 32\n",
    "            def f(p,e):\n",
    "                if p==0 :\n",
    "                    return 40 * e / E\n",
    "                else:\n",
    "                    return 6 * e / E\n",
    "            super().__init__( f)\n",
    "        elif emmy=='emmy*':\n",
    "            self.E = 256\n",
    "            def f(p,e):\n",
    "                if p==0 :\n",
    "                    return 20 * e / E\n",
    "                else:\n",
    "                    return 3 * e / E\n",
    "            super().__init__( f)"
   ]
  },
  {
   "cell_type": "code",
   "execution_count": null,
   "metadata": {
    "ExecuteTime": {
     "end_time": "2021-06-23T07:53:18.572279Z",
     "start_time": "2021-06-23T07:53:18.563258Z"
    },
    "code_folding": [
     0,
     7
    ]
   },
   "outputs": [],
   "source": [
    "# very basic class for representing endorsement reward functions, \n",
    "# and sub class for emmy family\n",
    "class Reward_endors:\n",
    "    def __init__(self, f):\n",
    "        self.f = f\n",
    "        \n",
    "    def __call__(self, prio):\n",
    "        return self.f(prio)\n",
    "\n",
    "class Reward_endors_emmy(Reward_baking):\n",
    "    def __init__(self, emmy):\n",
    "        \n",
    "        if emmy=='emmy':\n",
    "            self.E = 32\n",
    "            super().__init__( lambda p: 2)\n",
    "        elif emmy=='emmy+':\n",
    "            self.E = 32\n",
    "            super().__init__( lambda p: 40/E if p==0 else 40/E*2/3)\n",
    "        elif emmy=='emmy*':\n",
    "            self.E = 256\n",
    "            super().__init__( lambda p: 20/E if p==0 else 20/E*2/3)"
   ]
  },
  {
   "cell_type": "markdown",
   "metadata": {},
   "source": [
    "### Test\n",
    "for emmy+ case"
   ]
  },
  {
   "cell_type": "code",
   "execution_count": null,
   "metadata": {
    "ExecuteTime": {
     "end_time": "2021-06-23T07:53:18.989896Z",
     "start_time": "2021-06-23T07:53:18.969872Z"
    }
   },
   "outputs": [],
   "source": [
    "delay = Delay_emmy('emmy+')\n",
    "E = 32\n",
    "P = 32\n",
    "s = 0.2 # stake of attacker\n",
    "\n",
    "# distribution of the attacker's number of endorsement\n",
    "endo = Distribution.binomial(E,s)\n",
    "# distribution of the attacker's best priority\n",
    "prio = Distribution.cut_geometric(P,s)\n",
    "# distribution of the honest bakers' best priority \n",
    "prio_minus = Distribution.cut_geometric(P,1-s)"
   ]
  },
  {
   "cell_type": "code",
   "execution_count": null,
   "metadata": {
    "ExecuteTime": {
     "end_time": "2021-06-23T07:53:19.192535Z",
     "start_time": "2021-06-23T07:53:19.118039Z"
    }
   },
   "outputs": [],
   "source": [
    "# we join the two priority distributions into 1 where we get an integer different from 0\n",
    "# when negative the attacker has the priority 0 up to the |value|-1, \n",
    "# so the best priority for honest bakers is the value (in positive)\n",
    "# when positive the honest bakers have the priority 0 up to the value-1, \n",
    "# so the best priority for the attacker is the value (in positive)\n",
    "support = [-n for n in prio_minus.n[:0:-1]] + prio.n[1:]\n",
    "probas = prio_minus.p[:0:-1] + prio.p[1:]\n",
    "prio_compil = Distribution(support, probas)\n",
    "\n",
    "# the functions to generate the two Delta distribution detailed in the overleaf \n",
    "delta_0_func = lambda p_c, e: delay(max(0,-p_c), E-e)-delay(max(0,p_c), E)\n",
    "delta_l_func = lambda p_c, e: delay(max(0,-p_c), E-e)-delay(max(0,p_c), e)\n",
    "delta_0 = prio_compil.function(delta_0_func,endo)\n",
    "delta_l = prio_compil.function(delta_l_func,endo)\n",
    "\n",
    "# the list for the probabilities of attacks of length l\n",
    "F_l = delta_0\n",
    "F = [None, F_l.sum_cond(lambda x:x>=0)]\n",
    "\n",
    "F"
   ]
  },
  {
   "cell_type": "markdown",
   "metadata": {},
   "source": [
    "each execution of the next cell will append a new value to F_l, so we get the probabilities for longer attacks,   \n",
    "WARNING: takes much more time with each execution"
   ]
  },
  {
   "cell_type": "code",
   "execution_count": null,
   "metadata": {
    "ExecuteTime": {
     "end_time": "2021-06-23T07:54:16.918428Z",
     "start_time": "2021-06-23T07:54:14.007268Z"
    }
   },
   "outputs": [],
   "source": [
    "F_l = F_l + delta_l\n",
    "F.append(F_l.sum_cond(lambda x:x>=0))\n",
    "F"
   ]
  },
  {
   "cell_type": "markdown",
   "metadata": {
    "ExecuteTime": {
     "end_time": "2021-06-23T13:46:17.545790Z",
     "start_time": "2021-06-23T13:46:17.527770Z"
    }
   },
   "source": [
    "# Nomadic blog post implementation for length-1"
   ]
  },
  {
   "cell_type": "code",
   "execution_count": null,
   "metadata": {
    "ExecuteTime": {
     "end_time": "2021-06-23T15:43:00.264697Z",
     "start_time": "2021-06-23T15:43:00.240677Z"
    },
    "code_folding": [
     4,
     7,
     15,
     27,
     33
    ]
   },
   "outputs": [],
   "source": [
    "E= 32\n",
    "P= 32\n",
    "s = 0.2\n",
    "\n",
    "def p_e (e, s, E=E):\n",
    "    return comb(E,e) * s**e * (1-s)**(E-e)\n",
    "\n",
    "def p_prio(p,s,sat=False, P=P):\n",
    "    if sat :\n",
    "        if p > P:\n",
    "            return 0\n",
    "        if p == P :\n",
    "            return (1-s)**p\n",
    "    return (1-s)**p * s\n",
    "\n",
    "def p_p(p_d, p_h, s, mode = 'meme_prio', sat = False):\n",
    "    if mode == 'meme_prio' :\n",
    "        if p_h == 0:\n",
    "            return p_prio(p_d, s, sat)\n",
    "        if p_d == 0:\n",
    "            return p_prio(p_h, s, sat)\n",
    "    if mode == 'diff_prio':\n",
    "        if p_h == 0:\n",
    "            return p_prio(p_d, s, sat)\n",
    "        if p_d == 0:\n",
    "            return p_prio(p_h, 1-s, sat)\n",
    "\n",
    "def in_P2(p_d,p_h, P2_mode='article'):\n",
    "    if P2_mode == '00' :\n",
    "        return (p_d == 0) or (p_h == 0)\n",
    "    if P2_mode == 'no_00':\n",
    "        return (p_d == 0) ^ (p_h == 0)\n",
    "\n",
    "def diff_first (p_d, p_h, e, E=E):\n",
    "    def delay (p,e) :\n",
    "        return 60 + 40 * p + 8* max(3/4*E-e, 0)\n",
    "    return int(delay(p_d, 32) - delay(p_h,E - e))\n",
    "\n"
   ]
  },
  {
   "cell_type": "code",
   "execution_count": null,
   "metadata": {
    "ExecuteTime": {
     "end_time": "2021-06-23T15:44:03.165449Z",
     "start_time": "2021-06-23T15:44:03.117252Z"
    }
   },
   "outputs": [],
   "source": [
    "num_sample = 2000\n",
    "P2_mode = 'no_00' # 00 no_00\n",
    "sat= True # False True\n",
    "mode = 'diff_prio' # meme_prio diff_prio\n",
    "\n",
    "p_chain_diff = [0] * (2*num_sample + 1)\n",
    "for p_d in range(P+1):\n",
    "    for p_h in range(P+1):\n",
    "        if not in_P2(p_d, p_h, P2_mode) :\n",
    "            continue\n",
    "        for e in range(E+1) :\n",
    "            delta = diff_first(p_d, p_h, e, E)\n",
    "            if -num_sample <= delta <= num_sample:\n",
    "                p_chain_diff[delta + num_sample] += p_p(p_d, p_h, s, mode, sat) * p_e (e, s)\n",
    "sum(p_chain_diff[:num_sample+1])"
   ]
  },
  {
   "cell_type": "code",
   "execution_count": null,
   "metadata": {
    "ExecuteTime": {
     "end_time": "2021-06-23T15:39:00.323061Z",
     "start_time": "2021-06-23T15:39:00.316066Z"
    }
   },
   "outputs": [],
   "source": []
  },
  {
   "cell_type": "code",
   "execution_count": null,
   "metadata": {
    "ExecuteTime": {
     "end_time": "2021-06-23T13:33:48.165036Z",
     "start_time": "2021-06-23T13:33:47.145152Z"
    }
   },
   "outputs": [],
   "source": []
  },
  {
   "cell_type": "code",
   "execution_count": null,
   "metadata": {
    "ExecuteTime": {
     "end_time": "2021-06-23T13:36:23.532486Z",
     "start_time": "2021-06-23T13:36:20.436334Z"
    }
   },
   "outputs": [],
   "source": []
  },
  {
   "cell_type": "code",
   "execution_count": null,
   "metadata": {},
   "outputs": [],
   "source": []
  }
 ],
 "metadata": {
  "hide_input": false,
  "kernelspec": {
   "display_name": "Python 3",
   "language": "python",
   "name": "python3"
  },
  "language_info": {
   "codemirror_mode": {
    "name": "ipython",
    "version": 3
   },
   "file_extension": ".py",
   "mimetype": "text/x-python",
   "name": "python",
   "nbconvert_exporter": "python",
   "pygments_lexer": "ipython3",
   "version": "3.8.5"
  },
  "toc": {
   "base_numbering": 1,
   "nav_menu": {},
   "number_sections": true,
   "sideBar": true,
   "skip_h1_title": false,
   "title_cell": "Table of Contents",
   "title_sidebar": "Contents",
   "toc_cell": false,
   "toc_position": {},
   "toc_section_display": true,
   "toc_window_display": false
  },
  "varInspector": {
   "cols": {
    "lenName": 16,
    "lenType": 16,
    "lenVar": 40
   },
   "kernels_config": {
    "python": {
     "delete_cmd_postfix": "",
     "delete_cmd_prefix": "del ",
     "library": "var_list.py",
     "varRefreshCmd": "print(var_dic_list())"
    },
    "r": {
     "delete_cmd_postfix": ") ",
     "delete_cmd_prefix": "rm(",
     "library": "var_list.r",
     "varRefreshCmd": "cat(var_dic_list()) "
    }
   },
   "types_to_exclude": [
    "module",
    "function",
    "builtin_function_or_method",
    "instance",
    "_Feature"
   ],
   "window_display": false
  }
 },
 "nbformat": 4,
 "nbformat_minor": 4
}
